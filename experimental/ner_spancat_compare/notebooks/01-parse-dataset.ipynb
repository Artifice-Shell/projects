{
 "cells": [
  {
   "cell_type": "markdown",
   "id": "6fc19aca",
   "metadata": {},
   "source": [
    "# Parse Dataset\n",
    "\n",
    "In this notebook, we are going to parse the dataset obtained from the [PICO Dataset](https://ebm-nlp.herokuapp.com/annotations) ([download](https://github.com/bepnye/EBM-NLP)). Our goal is to turn it into a spaCy binary format. For now, we only need the `ebm_nlp_1_00` dataset that contains the first-phase annotations (P)articipants, (I)ntervention, and (O)utcome."
   ]
  },
  {
   "cell_type": "code",
   "execution_count": null,
   "id": "41cf0ded",
   "metadata": {},
   "outputs": [],
   "source": []
  }
 ],
 "metadata": {
  "kernelspec": {
   "display_name": "Python 3 (ipykernel)",
   "language": "python",
   "name": "python3"
  },
  "language_info": {
   "codemirror_mode": {
    "name": "ipython",
    "version": 3
   },
   "file_extension": ".py",
   "mimetype": "text/x-python",
   "name": "python",
   "nbconvert_exporter": "python",
   "pygments_lexer": "ipython3",
   "version": "3.8.10"
  }
 },
 "nbformat": 4,
 "nbformat_minor": 5
}
